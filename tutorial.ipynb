{
 "cells": [
  {
   "cell_type": "markdown",
   "id": "235a906d-881a-48f6-b33c-2bbd1c424d17",
   "metadata": {},
   "source": [
    "## Tutorial to use OT for evaluating spatiotemporal predictions"
   ]
  },
  {
   "cell_type": "code",
   "execution_count": null,
   "id": "1e64b69c-2808-4cbe-b39d-e78e118b4bf6",
   "metadata": {},
   "outputs": [],
   "source": [
    "import numpy as np\n",
    "import matplotlib.pyplot as plt\n",
    "from scipy.spatial.distance import cdist\n",
    "from geot.partialot import PartialOT, partial_ot_fixed_locations, partial_ot_unpaired\n",
    "from geot.plotting import plot_cost_matrix, plot_predictions_and_ground_truth, plot_unpaired_transport_matrix"
   ]
  },
  {
   "cell_type": "markdown",
   "id": "bc0fe986-d4e6-42a9-8cd7-61916dd565e1",
   "metadata": {},
   "source": [
    "### Sample data\n",
    "\n",
    "Let's create some synthetic observations and predictions. We sample the predictions as normally distributed around the true observations."
   ]
  },
  {
   "cell_type": "code",
   "execution_count": null,
   "id": "cfc4d419-5cb7-475b-85fb-12a7668e8584",
   "metadata": {},
   "outputs": [],
   "source": [
    "NUM_LOCS = 100"
   ]
  },
  {
   "cell_type": "code",
   "execution_count": null,
   "id": "287405cd-9962-4357-b349-72727bb08567",
   "metadata": {},
   "outputs": [],
   "source": [
    "# sample x and y coordinates for NUM_LOCS locations\n",
    "locations = np.random.rand(NUM_LOCS, 2)\n",
    "# sample observations at these locations\n",
    "observations = np.random.normal(size=NUM_LOCS, loc=10, scale=3)\n",
    "# sample predictions -> add noise to observations\n",
    "predictions = np.random.normal(size=NUM_LOCS, loc=observations, scale=3)\n",
    "print(\"Sampled data\", locations.shape, observations.shape, predictions.shape)"
   ]
  },
  {
   "cell_type": "code",
   "execution_count": null,
   "id": "dbb8f0b1-80ec-4882-9161-faf2c7b09215",
   "metadata": {},
   "outputs": [],
   "source": [
    "plot_predictions_and_ground_truth(locations, predictions, observations)"
   ]
  },
  {
   "cell_type": "markdown",
   "id": "92ae48b2-e78a-4bad-9d8f-37baabd9d67f",
   "metadata": {},
   "source": [
    "### Set cost matrix\n",
    "\n",
    "To compute the spatial prediction error, we first require a cost matrix. As a simple example, we compute the Euclidean distances between locations."
   ]
  },
  {
   "cell_type": "code",
   "execution_count": null,
   "id": "f12033a6-92e5-4e30-94ee-098d78cb904e",
   "metadata": {},
   "outputs": [],
   "source": [
    "# compute pairwise costs\n",
    "cost_matrix = cdist(locations, locations)\n",
    "print(\"C is a 2D matrix of shape\", cost_matrix.shape)\n",
    "\n",
    "# plot matrix\n",
    "plot_cost_matrix(cost_matrix)"
   ]
  },
  {
   "cell_type": "markdown",
   "id": "9ebca529-aa5a-48e9-9fb0-755ac5e792fb",
   "metadata": {},
   "source": [
    "**Note**: The cost matrix does not have to be set to Euclidean distances; it can be really anything - monetary costs, travel times, map-matched distances, etc. Simply replace `cdist` by your function to compute the pairwise distances between locations in another manner"
   ]
  },
  {
   "cell_type": "markdown",
   "id": "94b44115-14bb-417f-9a0e-4beb5bce29a3",
   "metadata": {},
   "source": [
    "### Compute PartialOT error"
   ]
  },
  {
   "cell_type": "markdown",
   "id": "14dc86d4-94d1-4db2-a73f-0da6b17a8aad",
   "metadata": {},
   "source": [
    "We initialize a PartialOT framework. One parameter we need to set is how much to penalize the overall difference between observations and predictions, i.e. between sum(observations) and sum(predictions). Here, we set it to zero since we are only interested in the spatial errors (the transport costs to align predictions and ground truth)"
   ]
  },
  {
   "cell_type": "code",
   "execution_count": null,
   "id": "b5f03542-184f-4b54-a2c0-ae53f2c3aec8",
   "metadata": {},
   "outputs": [],
   "source": [
    "ot_computer = PartialOT(cost_matrix, penalty_waste=0)"
   ]
  },
  {
   "cell_type": "code",
   "execution_count": null,
   "id": "8a1846ab-86d0-4f1e-ba2d-9c8319f12ba4",
   "metadata": {},
   "outputs": [],
   "source": [
    "ot_error = ot_computer(predictions, observations)\n",
    "print(\"The OT error is\", ot_error.item())"
   ]
  },
  {
   "cell_type": "markdown",
   "id": "e3003336-2946-4cd6-b20a-b30da4bf1d01",
   "metadata": {},
   "source": [
    "If you only compute it once, there is also a function available that does everything at ones:"
   ]
  },
  {
   "cell_type": "code",
   "execution_count": null,
   "id": "fced6134-8fd7-4e47-a388-86637e360ef6",
   "metadata": {},
   "outputs": [],
   "source": [
    "partial_ot_fixed_locations(cost_matrix, predictions, observations, penalty_waste=0)"
   ]
  },
  {
   "cell_type": "markdown",
   "id": "d0a4996a-4de7-41b8-96d4-b8ea007cb955",
   "metadata": {},
   "source": [
    "### OT for unpaired data\n",
    "\n",
    "So far, we have assumed a use case with *paired* data, i.e., the locations are fixed and there is always one observation and one prediction per location. However, some use cases in GeoAI require to predict the location itself, e.g. where some event occurs. For instance, imagine that someone aims to predict in which streets of a city a crime will occur within the next months. In that case, there is a set of locations where crimes were predicted to occur, and a set of locations where they actually occured, and these sets are unpaired. "
   ]
  },
  {
   "cell_type": "code",
   "execution_count": null,
   "id": "175b9ae2-ec36-40ca-b2f9-e42c08483595",
   "metadata": {},
   "outputs": [],
   "source": [
    "predicted_locations = np.random.rand(50, 2)\n",
    "true_locations = np.random.rand(40, 2)\n",
    "\n",
    "plot_unpaired_transport_matrix(\n",
    "    predicted_locations, true_locations, np.zeros((50, 40))\n",
    ")"
   ]
  },
  {
   "cell_type": "markdown",
   "id": "7bcd39dd-86c3-46c7-a894-b50424411f27",
   "metadata": {},
   "source": [
    "The function `partial_ot_unpaired` allows to compute the OT transport plan and cost for these predictions:"
   ]
  },
  {
   "cell_type": "code",
   "execution_count": null,
   "id": "f590a7d0-d01f-4f36-b868-66c024dcb15f",
   "metadata": {},
   "outputs": [],
   "source": [
    "ot_error = partial_ot_unpaired(\n",
    "    predicted_locations, true_locations, cost_matrix=None, import_location=np.array([0, 0]), import_cost_phi=0, return_matrix=False\n",
    ")\n",
    "print(\"OT error for predictions\", ot_error)"
   ]
  },
  {
   "cell_type": "markdown",
   "id": "22569e97-e614-4cf1-bafd-62fed585d671",
   "metadata": {},
   "source": [
    "Again, we can plot the OT matrix which indicates between which locations mass has to be transported:"
   ]
  },
  {
   "cell_type": "code",
   "execution_count": null,
   "id": "07c6ca8a-a8a8-432e-8d28-a948b0b3f88e",
   "metadata": {},
   "outputs": [],
   "source": [
    "# Execute function again, this time with return_matrix=True\n",
    "transport_matrix = partial_ot_unpaired(\n",
    "    predicted_locations, true_locations, cost_matrix=None, import_location=np.array([0, 0]), import_cost_phi=0, return_matrix=True\n",
    ")"
   ]
  },
  {
   "cell_type": "code",
   "execution_count": null,
   "id": "3d817428-2ad8-4ead-b0b3-b426c6df8892",
   "metadata": {},
   "outputs": [],
   "source": [
    "# Plot the transport matrix\n",
    "plot_unpaired_transport_matrix(\n",
    "    predicted_locations, true_locations, transport_matrix\n",
    ")"
   ]
  },
  {
   "cell_type": "code",
   "execution_count": null,
   "id": "48630cec-1ef3-4509-81f2-5359b92e9647",
   "metadata": {},
   "outputs": [],
   "source": []
  }
 ],
 "metadata": {
  "kernelspec": {
   "display_name": "Python 3 (ipykernel)",
   "language": "python",
   "name": "python3"
  },
  "language_info": {
   "codemirror_mode": {
    "name": "ipython",
    "version": 3
   },
   "file_extension": ".py",
   "mimetype": "text/x-python",
   "name": "python",
   "nbconvert_exporter": "python",
   "pygments_lexer": "ipython3",
   "version": "3.9.18"
  }
 },
 "nbformat": 4,
 "nbformat_minor": 5
}
